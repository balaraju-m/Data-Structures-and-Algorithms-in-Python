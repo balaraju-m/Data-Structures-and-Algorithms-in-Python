{
 "cells": [
  {
   "cell_type": "code",
   "execution_count": null,
   "id": "0cfad892",
   "metadata": {},
   "outputs": [],
   "source": [
    "Given an array A[] of size n. The task is to find the largest element in it.\n",
    " \n",
    "Example 1:\n",
    "\n",
    "Input:\n",
    "n = 5\n",
    "A[] = {1, 8, 7, 56, 90}\n",
    "\n",
    "\n",
    "Output:\n",
    "90\n",
    "Explanation:\n",
    "The largest element of given array is 90."
   ]
  },
  {
   "cell_type": "markdown",
   "id": "49b50232",
   "metadata": {},
   "source": [
    "# Intuition :\n",
    "\n",
    "        method 1:\n",
    "        \n",
    "            1.sort the elements then print last element in the list , which is a maximum one.--Time complexity = O(nlogn)\n",
    "            \n",
    "            \n",
    "        method 2:\n",
    "       \n",
    "           1.set variable ,maxi = -sys.maxsize\n",
    "           \n",
    "           2.run for loop and update maxi by comparing with each element in the list.\n",
    "       \n",
    "    \n",
    "    "
   ]
  },
  {
   "cell_type": "code",
   "execution_count": null,
   "id": "ee81b9f9",
   "metadata": {},
   "outputs": [],
   "source": [
    "!# Python code\n",
    "\n",
    "import sys\n",
    "def largest( arr, n):\n",
    "    \n",
    "        maxi = -sys.maxsize\n",
    "        \n",
    "        for i in arr:\n",
    "            \n",
    "            maxi = max(maxi,i)\n",
    "            \n",
    "        return maxi"
   ]
  }
 ],
 "metadata": {
  "kernelspec": {
   "display_name": "Python 3 (ipykernel)",
   "language": "python",
   "name": "python3"
  },
  "language_info": {
   "codemirror_mode": {
    "name": "ipython",
    "version": 3
   },
   "file_extension": ".py",
   "mimetype": "text/x-python",
   "name": "python",
   "nbconvert_exporter": "python",
   "pygments_lexer": "ipython3",
   "version": "3.9.13"
  }
 },
 "nbformat": 4,
 "nbformat_minor": 5
}
